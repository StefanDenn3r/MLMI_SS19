{
  "nbformat": 4,
  "nbformat_minor": 0,
  "metadata": {
    "colab": {
      "name": "XRay_on_colab.ipynb",
      "version": "0.3.2",
      "provenance": []
    },
    "kernelspec": {
      "name": "python3",
      "display_name": "Python 3"
    },
    "accelerator": "GPU"
  },
  "cells": [
    {
      "cell_type": "code",
      "metadata": {
        "id": "VeeBeibtn_O_",
        "colab_type": "code",
        "colab": {}
      },
      "source": [
        "from zipfile import ZipFile\n",
        "import os\n",
        "from google.colab import files\n",
        "! pip install tensorboardx\n",
        "! pip install bayesian-optimization\n",
        "\n",
        "ROOT = '/content'"
      ],
      "execution_count": 0,
      "outputs": []
    },
    {
      "cell_type": "markdown",
      "metadata": {
        "id": "wRn8HOi7rSvV",
        "colab_type": "text"
      },
      "source": [
        "Install ngrok for tunneling and start tensorboard"
      ]
    },
    {
      "cell_type": "code",
      "metadata": {
        "id": "sc71w6qerQtF",
        "colab_type": "code",
        "colab": {}
      },
      "source": [
        "if not os.path.exists(os.path.join(ROOT, \"ngrok-stable-linux-amd64.zip\")):\n",
        "  !wget https://bin.equinox.io/c/4VmDzA7iaHb/ngrok-stable-linux-amd64.zip\n",
        "  !unzip ngrok-stable-linux-amd64.zip\n",
        "  \n",
        "LOG_DIR = os.path.join(ROOT,'saved/log/')\n",
        "get_ipython().system_raw(\n",
        "    'tensorboard --logdir {} --host 0.0.0.0 --port 6006 &'\n",
        "    .format(LOG_DIR)\n",
        ")\n",
        "\n",
        "get_ipython().system_raw('./ngrok http 6006 &')"
      ],
      "execution_count": 0,
      "outputs": []
    },
    {
      "cell_type": "markdown",
      "metadata": {
        "id": "8fGr1nvVqduU",
        "colab_type": "text"
      },
      "source": [
        "Setup tensorboard"
      ]
    },
    {
      "cell_type": "code",
      "metadata": {
        "id": "rOJxnfekqPg2",
        "colab_type": "code",
        "colab": {}
      },
      "source": [
        "! curl -s http://localhost:4040/api/tunnels | python3 -c \\\n",
        "    \"import sys, json; print(json.load(sys.stdin)['tunnels'][0]['public_url'])\""
      ],
      "execution_count": 0,
      "outputs": []
    },
    {
      "cell_type": "markdown",
      "metadata": {
        "id": "Bfi8tuo_qpLu",
        "colab_type": "text"
      },
      "source": [
        "Upload project as .zip file and extract it"
      ]
    },
    {
      "cell_type": "code",
      "metadata": {
        "id": "KUMjy7m2oWu6",
        "colab_type": "code",
        "colab": {}
      },
      "source": [
        "file = files.upload()\n",
        "\n",
        "zip_file = ZipFile(os.path.join(ROOT,list(file.keys())[0]))\n",
        "zip_file.extractall(ROOT)\n",
        "zip_file.close()"
      ],
      "execution_count": 0,
      "outputs": []
    },
    {
      "cell_type": "markdown",
      "metadata": {
        "id": "L41jcwBrqkev",
        "colab_type": "text"
      },
      "source": [
        "Modify parameters and train model **manually**"
      ]
    },
    {
      "cell_type": "code",
      "metadata": {
        "id": "AkWxw0fjos8N",
        "colab_type": "code",
        "colab": {}
      },
      "source": [
        "from config import CONFIG  \n",
        "from parse_config import ConfigParser\n",
        "from train import main\n",
        "\n",
        "CONFIG['arch']['args']['x_channels'] = 128\n",
        "CONFIG['arch']['args']['stage_channels'] = 512\n",
        "CONFIG['arch']['args']['num_stages'] = 5\n",
        "\n",
        "CONFIG['data_loader']['args']['data_dir'] = \"data/XRay/Patient_0\"\n",
        "CONFIG['data_loader']['args']['batch_size'] = 1\n",
        "CONFIG['data_loader']['args']['validation_split'] = 0.0\n",
        "CONFIG['data_loader']['args']['shuffle'] = False\n",
        "\n",
        "CONFIG['optimizer']['args']['lr'] = 1e-5\n",
        "\n",
        "CONFIG['trainer']['epochs'] = 1000\n",
        "CONFIG['trainer']['save_period'] = 1\n",
        "CONFIG['trainer']['early_stop'] = 50\n",
        "\n",
        "CONFIG['fraction_of_dataset'] = 0.25\n",
        "CONFIG['sigma'] = 80\n",
        "CONFIG['prediction_blur'] = 2\n",
        "CONFIG['threshold'] = 0.01\n",
        "\n",
        "main(ConfigParser(CONFIG))"
      ],
      "execution_count": 0,
      "outputs": []
    },
    {
      "cell_type": "markdown",
      "metadata": {
        "id": "J7vyQPQ5Q8aa",
        "colab_type": "text"
      },
      "source": [
        "Do **automatic** Bayesian optimization"
      ]
    },
    {
      "cell_type": "code",
      "metadata": {
        "id": "RO9SmoL7pFaS",
        "colab_type": "code",
        "colab": {}
      },
      "source": [
        "from bayes_opt_train import run_bayes_opt\n",
        "\n",
        "run_bayes_opt({\n",
        "    'num_channels': (6, 8),  # {64, 128, 256}\n",
        "    'num_stacks': (2, 7),\n",
        "    'num_blocks': (1, 7),\n",
        "    'kernel_size': (1, 4),  # {3, 5, 7, 9}\n",
        "    'sigma': (0.6, 5),\n",
        "    'prediction_blur': (0.01, 1),\n",
        "    'threshold': (0.00001, 0.2),\n",
        "    'epochs': (200, 200)\n",
        "\n",
        "}, init_points=10, n_iter=10)"
      ],
      "execution_count": 0,
      "outputs": []
    },
    {
      "cell_type": "markdown",
      "metadata": {
        "id": "X_hhcUAjQ7pX",
        "colab_type": "text"
      },
      "source": [
        ""
      ]
    }
  ]
}